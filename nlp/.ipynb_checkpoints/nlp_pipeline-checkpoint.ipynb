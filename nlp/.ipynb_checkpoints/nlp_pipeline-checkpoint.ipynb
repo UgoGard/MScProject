{
 "cells": [
  {
   "cell_type": "markdown",
   "id": "d2b0d7c1",
   "metadata": {},
   "source": [
    "# Sentiment Analysis with Spacy + TextBlob\n",
    "- Spacy\n",
    "- TextBlob"
   ]
  },
  {
   "cell_type": "code",
   "execution_count": 4,
   "id": "3e5e967a",
   "metadata": {},
   "outputs": [],
   "source": [
    "# Installation for Spacy\n",
    "# pip install spacy\n",
    "# python -m spacy download en_core_web_sm"
   ]
  },
  {
   "cell_type": "code",
   "execution_count": null,
   "id": "f2c78882",
   "metadata": {},
   "outputs": [],
   "source": [
    "# Installation for Textblob\n",
    "# pip install spacytextblob\n",
    "# python -m textblob.download_corpora"
   ]
  },
  {
   "cell_type": "code",
   "execution_count": 1,
   "id": "b031dd0a",
   "metadata": {},
   "outputs": [],
   "source": [
    "# Load NLP packages\n",
    "import spacy\n",
    "nlp = spacy.load('en_core_web_sm')"
   ]
  },
  {
   "cell_type": "code",
   "execution_count": 2,
   "id": "d7912742",
   "metadata": {},
   "outputs": [
    {
     "data": {
      "text/plain": [
       "'3.7.4'"
      ]
     },
     "execution_count": 2,
     "metadata": {},
     "output_type": "execute_result"
    }
   ],
   "source": [
    "# Version\n",
    "spacy.__version__"
   ]
  },
  {
   "cell_type": "code",
   "execution_count": 3,
   "id": "b9addcbc",
   "metadata": {},
   "outputs": [
    {
     "data": {
      "text/plain": [
       "[('tok2vec', <spacy.pipeline.tok2vec.Tok2Vec at 0x199b7cad9d0>),\n",
       " ('tagger', <spacy.pipeline.tagger.Tagger at 0x199b7cad8b0>),\n",
       " ('parser', <spacy.pipeline.dep_parser.DependencyParser at 0x199b7ba54d0>),\n",
       " ('senter', <spacy.pipeline.senter.SentenceRecognizer at 0x199b74a4410>),\n",
       " ('attribute_ruler',\n",
       "  <spacy.pipeline.attributeruler.AttributeRuler at 0x199b7cd43d0>),\n",
       " ('lemmatizer', <spacy.lang.en.lemmatizer.EnglishLemmatizer at 0x199b7cb5150>),\n",
       " ('ner', <spacy.pipeline.ner.EntityRecognizer at 0x199b7ba5540>)]"
      ]
     },
     "execution_count": 3,
     "metadata": {},
     "output_type": "execute_result"
    }
   ],
   "source": [
    "# Explore pipeline - method 1\n",
    "nlp.components"
   ]
  },
  {
   "cell_type": "code",
   "execution_count": 4,
   "id": "52fc0c33",
   "metadata": {},
   "outputs": [
    {
     "data": {
      "text/plain": [
       "[('tok2vec', <spacy.pipeline.tok2vec.Tok2Vec at 0x199b7cad9d0>),\n",
       " ('tagger', <spacy.pipeline.tagger.Tagger at 0x199b7cad8b0>),\n",
       " ('parser', <spacy.pipeline.dep_parser.DependencyParser at 0x199b7ba54d0>),\n",
       " ('attribute_ruler',\n",
       "  <spacy.pipeline.attributeruler.AttributeRuler at 0x199b7cd43d0>),\n",
       " ('lemmatizer', <spacy.lang.en.lemmatizer.EnglishLemmatizer at 0x199b7cb5150>),\n",
       " ('ner', <spacy.pipeline.ner.EntityRecognizer at 0x199b7ba5540>)]"
      ]
     },
     "execution_count": 4,
     "metadata": {},
     "output_type": "execute_result"
    }
   ],
   "source": [
    "# Explore pipeline - method 2\n",
    "nlp.pipeline"
   ]
  },
  {
   "cell_type": "code",
   "execution_count": 5,
   "id": "d67b0af8",
   "metadata": {},
   "outputs": [
    {
     "data": {
      "text/plain": [
       "['tok2vec',\n",
       " 'tagger',\n",
       " 'parser',\n",
       " 'senter',\n",
       " 'attribute_ruler',\n",
       " 'lemmatizer',\n",
       " 'ner']"
      ]
     },
     "execution_count": 5,
     "metadata": {},
     "output_type": "execute_result"
    }
   ],
   "source": [
    "# Get the components names\n",
    "nlp.component_names"
   ]
  },
  {
   "cell_type": "code",
   "execution_count": 6,
   "id": "8e692f6a",
   "metadata": {},
   "outputs": [
    {
     "data": {
      "text/plain": [
       "['tok2vec', 'tagger', 'parser', 'attribute_ruler', 'lemmatizer', 'ner']"
      ]
     },
     "execution_count": 6,
     "metadata": {},
     "output_type": "execute_result"
    }
   ],
   "source": [
    "nlp.pipe_names"
   ]
  },
  {
   "cell_type": "markdown",
   "id": "12ef5b86",
   "metadata": {},
   "source": [
    "# Using Spacy Textblob: Sentiment Analysis using Textblob"
   ]
  },
  {
   "cell_type": "code",
   "execution_count": 7,
   "id": "0510981f",
   "metadata": {},
   "outputs": [],
   "source": [
    "from spacytextblob.spacytextblob import SpacyTextBlob"
   ]
  },
  {
   "cell_type": "code",
   "execution_count": 8,
   "id": "112327c4",
   "metadata": {},
   "outputs": [
    {
     "data": {
      "text/plain": [
       "<spacytextblob.spacytextblob.SpacyTextBlob at 0x199bf2c07d0>"
      ]
     },
     "execution_count": 8,
     "metadata": {},
     "output_type": "execute_result"
    }
   ],
   "source": [
    "# Adding SpacyTextBlob to NLP Pipeline\n",
    "nlp.add_pipe(\"spacytextblob\")"
   ]
  },
  {
   "cell_type": "code",
   "execution_count": 9,
   "id": "a8d0460c",
   "metadata": {},
   "outputs": [
    {
     "data": {
      "text/plain": [
       "[('tok2vec', <spacy.pipeline.tok2vec.Tok2Vec at 0x199b7cad9d0>),\n",
       " ('tagger', <spacy.pipeline.tagger.Tagger at 0x199b7cad8b0>),\n",
       " ('parser', <spacy.pipeline.dep_parser.DependencyParser at 0x199b7ba54d0>),\n",
       " ('attribute_ruler',\n",
       "  <spacy.pipeline.attributeruler.AttributeRuler at 0x199b7cd43d0>),\n",
       " ('lemmatizer', <spacy.lang.en.lemmatizer.EnglishLemmatizer at 0x199b7cb5150>),\n",
       " ('ner', <spacy.pipeline.ner.EntityRecognizer at 0x199b7ba5540>),\n",
       " ('spacytextblob',\n",
       "  <spacytextblob.spacytextblob.SpacyTextBlob at 0x199bf2c07d0>)]"
      ]
     },
     "execution_count": 9,
     "metadata": {},
     "output_type": "execute_result"
    }
   ],
   "source": [
    "# Check pipeline again\n",
    "nlp.pipeline"
   ]
  },
  {
   "cell_type": "code",
   "execution_count": 10,
   "id": "fba43781",
   "metadata": {},
   "outputs": [
    {
     "data": {
      "text/plain": [
       "['tok2vec',\n",
       " 'tagger',\n",
       " 'parser',\n",
       " 'attribute_ruler',\n",
       " 'lemmatizer',\n",
       " 'ner',\n",
       " 'spacytextblob']"
      ]
     },
     "execution_count": 10,
     "metadata": {},
     "output_type": "execute_result"
    }
   ],
   "source": [
    "nlp.pipe_names"
   ]
  },
  {
   "cell_type": "code",
   "execution_count": 21,
   "id": "9d053674",
   "metadata": {},
   "outputs": [],
   "source": [
    "text = \"Two Bitcoin traders were robbed at gunpoint at their home in rural England when armed criminals forced them to carry out cryptocurrency transfers, the Telegraph reported.\""
   ]
  },
  {
   "cell_type": "code",
   "execution_count": 22,
   "id": "a4861880",
   "metadata": {},
   "outputs": [],
   "source": [
    "docx = nlp(text)"
   ]
  },
  {
   "cell_type": "code",
   "execution_count": 23,
   "id": "53d3977c",
   "metadata": {},
   "outputs": [
    {
     "data": {
      "text/plain": [
       "-0.15000000000000002"
      ]
     },
     "execution_count": 23,
     "metadata": {},
     "output_type": "execute_result"
    }
   ],
   "source": [
    "# Check Sentiment Polarity\n",
    "docx._.polarity"
   ]
  },
  {
   "cell_type": "code",
   "execution_count": 24,
   "id": "914c6880",
   "metadata": {},
   "outputs": [
    {
     "data": {
      "text/plain": [
       "0.1"
      ]
     },
     "execution_count": 24,
     "metadata": {},
     "output_type": "execute_result"
    }
   ],
   "source": [
    "# Check for subjectivity\n",
    "docx._.subjectivity"
   ]
  },
  {
   "cell_type": "code",
   "execution_count": 25,
   "id": "c832b74a",
   "metadata": {},
   "outputs": [
    {
     "data": {
      "text/plain": [
       "[(['rural'], 0.0, 0.0, None), (['forced'], -0.30000000000000004, 0.2, None)]"
      ]
     },
     "execution_count": 25,
     "metadata": {},
     "output_type": "execute_result"
    }
   ],
   "source": [
    "# Check Assessment: List polarity/subjectivity for the assessed token\n",
    "docx._.assessments"
   ]
  },
  {
   "cell_type": "code",
   "execution_count": 26,
   "id": "9922ffa9",
   "metadata": {},
   "outputs": [
    {
     "name": "stdout",
     "output_type": "stream",
     "text": [
      "Two NUM CD\n",
      "Bitcoin ADJ JJ\n",
      "traders NOUN NNS\n",
      "were AUX VBD\n",
      "robbed VERB VBN\n",
      "at ADP IN\n",
      "gunpoint NOUN NN\n",
      "at ADP IN\n",
      "their PRON PRP$\n",
      "home NOUN NN\n",
      "in ADP IN\n",
      "rural ADJ JJ\n",
      "England PROPN NNP\n",
      "when SCONJ WRB\n",
      "armed ADJ JJ\n",
      "criminals NOUN NNS\n",
      "forced VERB VBD\n",
      "them PRON PRP\n",
      "to PART TO\n",
      "carry VERB VB\n",
      "out ADP RP\n",
      "cryptocurrency NOUN NN\n",
      "transfers NOUN NNS\n",
      ", PUNCT ,\n",
      "the DET DT\n",
      "Telegraph PROPN NNP\n",
      "reported VERB VBD\n",
      ". PUNCT .\n"
     ]
    }
   ],
   "source": [
    "# Basics\n",
    "for token in docx:\n",
    "    print(token.text, token.pos_, token.tag_)"
   ]
  }
 ],
 "metadata": {
  "kernelspec": {
   "display_name": "Python 3 (ipykernel)",
   "language": "python",
   "name": "python3"
  },
  "language_info": {
   "codemirror_mode": {
    "name": "ipython",
    "version": 3
   },
   "file_extension": ".py",
   "mimetype": "text/x-python",
   "name": "python",
   "nbconvert_exporter": "python",
   "pygments_lexer": "ipython3",
   "version": "3.11.5"
  }
 },
 "nbformat": 4,
 "nbformat_minor": 5
}
