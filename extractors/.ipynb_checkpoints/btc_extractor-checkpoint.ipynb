{
 "cells": [
  {
   "cell_type": "code",
   "execution_count": 6,
   "id": "6eefc2e1",
   "metadata": {},
   "outputs": [],
   "source": [
    "# Install yfinance and import the librairy\n",
    "#pip install yfinance\n",
    "import yfinance as yahooFinance"
   ]
  },
  {
   "cell_type": "code",
   "execution_count": 18,
   "id": "b7e0ddbe",
   "metadata": {},
   "outputs": [],
   "source": [
    "# Here We are getting Facebook financial information\n",
    "# We need to pass BTC as argument for that\n",
    "# https://finance.yahoo.com/quote/BTC-USD\n",
    "GetBTCInformation = yahooFinance.Ticker(\"BTC-USD\")"
   ]
  },
  {
   "cell_type": "code",
   "execution_count": 19,
   "id": "c02426ba",
   "metadata": {},
   "outputs": [
    {
     "name": "stdout",
     "output_type": "stream",
     "text": [
      "{'name': 'Bitcoin', 'startDate': 1278979200, 'description': 'Bitcoin (BTC) is a cryptocurrency launched in 2010. Users are able to generate BTC through the process of mining. Bitcoin has a current supply of 19,688,981. The last known price of Bitcoin is 66,246.22112703 USD and is up 0.38 over the last 24 hours. It is currently trading on 11017 active market(s) with $24,764,241,264.06 traded over the last 24 hours. More information can be found at https://bitcoin.org/.', 'maxAge': 86400, 'priceHint': 2, 'previousClose': 66845.79, 'open': 66845.79, 'dayLow': 65924.75, 'dayHigh': 67199.24, 'regularMarketPreviousClose': 66845.79, 'regularMarketOpen': 66845.79, 'regularMarketDayLow': 65924.75, 'regularMarketDayHigh': 67199.24, 'volume': 24771444736, 'regularMarketVolume': 24771444736, 'averageVolume': 36054434969, 'averageVolume10days': 38812630077, 'averageDailyVolume10Day': 38812630077, 'marketCap': 1311063277568, 'fiftyTwoWeekLow': 24797.168, 'fiftyTwoWeekHigh': 73750.07, 'fiftyDayAverage': 67553.555, 'twoHundredDayAverage': 47716.574, 'currency': 'USD', 'fromCurrency': 'BTC', 'toCurrency': 'USD=X', 'lastMarket': 'CoinMarketCap', 'coinMarketCapLink': 'https://coinmarketcap.com/currencies/bitcoin', 'volume24Hr': 24771444736, 'volumeAllCurrencies': 24771444736, 'circulatingSupply': 19689128, 'exchange': 'CCC', 'quoteType': 'CRYPTOCURRENCY', 'symbol': 'BTC-USD', 'underlyingSymbol': 'BTC-USD', 'shortName': 'Bitcoin USD', 'longName': 'Bitcoin USD', 'firstTradeDateEpochUtc': 1410912000, 'timeZoneFullName': 'UTC', 'timeZoneShortName': 'UTC', 'uuid': '74397779-1589-3270-8c45-b7f1a7345b3a', 'messageBoardId': 'finmb_BTC_CCC', 'trailingPegRatio': None}\n"
     ]
    }
   ],
   "source": [
    "# whole python dictionary is printed here\n",
    "print(GetBTCInformation.info)"
   ]
  },
  {
   "cell_type": "code",
   "execution_count": 20,
   "id": "f2d35825",
   "metadata": {},
   "outputs": [
    {
     "name": "stdout",
     "output_type": "stream",
     "text": [
      "                                   Open          High           Low  \\\n",
      "Date                                                                  \n",
      "2014-09-17 00:00:00+00:00    465.864014    468.174011    452.421997   \n",
      "2014-09-18 00:00:00+00:00    456.859985    456.859985    413.104004   \n",
      "2014-09-19 00:00:00+00:00    424.102997    427.834991    384.532013   \n",
      "2014-09-20 00:00:00+00:00    394.673004    423.295990    389.882996   \n",
      "2014-09-21 00:00:00+00:00    408.084991    412.425995    393.181000   \n",
      "...                                 ...           ...           ...   \n",
      "2024-04-19 00:00:00+00:00  63510.750000  65481.597656  59651.390625   \n",
      "2024-04-20 00:00:00+00:00  63851.101562  65442.457031  63172.402344   \n",
      "2024-04-21 00:00:00+00:00  64992.816406  65723.242188  64277.722656   \n",
      "2024-04-22 00:00:00+00:00  64935.632812  67233.960938  64548.179688   \n",
      "2024-04-23 00:00:00+00:00  66845.789062  67199.242188  65924.750000   \n",
      "\n",
      "                                  Close       Volume  Dividends  Stock Splits  \n",
      "Date                                                                           \n",
      "2014-09-17 00:00:00+00:00    457.334015     21056800        0.0           0.0  \n",
      "2014-09-18 00:00:00+00:00    424.440002     34483200        0.0           0.0  \n",
      "2014-09-19 00:00:00+00:00    394.795990     37919700        0.0           0.0  \n",
      "2014-09-20 00:00:00+00:00    408.903992     36863600        0.0           0.0  \n",
      "2014-09-21 00:00:00+00:00    398.821014     26580100        0.0           0.0  \n",
      "...                                 ...          ...        ...           ...  \n",
      "2024-04-19 00:00:00+00:00  63843.570312  49920425401        0.0           0.0  \n",
      "2024-04-20 00:00:00+00:00  64994.441406  23097485495        0.0           0.0  \n",
      "2024-04-21 00:00:00+00:00  64926.644531  20506644853        0.0           0.0  \n",
      "2024-04-22 00:00:00+00:00  66837.679688  28282686673        0.0           0.0  \n",
      "2024-04-23 00:00:00+00:00  66588.187500  24771444736        0.0           0.0  \n",
      "\n",
      "[3507 rows x 7 columns]\n"
     ]
    }
   ],
   "source": [
    "# Let us  get historical stock prices for Bitcoin \n",
    "# covering the past few years.\n",
    "# max->maximum number of daily prices available \n",
    "# for Bitcoin.\n",
    "# Valid options are 1d, 5d, 1mo, 3mo, 6mo, 1y, 2y,\n",
    "# 5y, 10y and ytd.\n",
    "print(GetBTCInformation.history(period=\"max\"))"
   ]
  }
 ],
 "metadata": {
  "kernelspec": {
   "display_name": "Python 3 (ipykernel)",
   "language": "python",
   "name": "python3"
  },
  "language_info": {
   "codemirror_mode": {
    "name": "ipython",
    "version": 3
   },
   "file_extension": ".py",
   "mimetype": "text/x-python",
   "name": "python",
   "nbconvert_exporter": "python",
   "pygments_lexer": "ipython3",
   "version": "3.11.5"
  }
 },
 "nbformat": 4,
 "nbformat_minor": 5
}
